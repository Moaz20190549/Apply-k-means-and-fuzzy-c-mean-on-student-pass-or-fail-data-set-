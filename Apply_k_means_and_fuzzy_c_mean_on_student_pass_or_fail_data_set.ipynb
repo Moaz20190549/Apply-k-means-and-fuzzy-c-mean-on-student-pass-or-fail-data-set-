{
  "cells": [
    {
      "cell_type": "markdown",
      "id": "6f356dc9",
      "metadata": {
        "id": "6f356dc9"
      },
      "source": [
        "# importing libraries\n"
      ]
    },
    {
      "cell_type": "code",
      "execution_count": null,
      "id": "d390598c",
      "metadata": {
        "id": "d390598c"
      },
      "outputs": [],
      "source": [
        "import pandas as pd \n",
        "import numpy as np \n",
        "import matplotlib.pyplot as plt \n",
        "import seaborn as sns \n",
        "from sklearn.model_selection import train_test_split\n",
        "from sklearn.metrics import accuracy_score\n",
        "from sklearn.cluster import KMeans\n",
        "from fcmeans import FCM\n"
      ]
    },
    {
      "cell_type": "markdown",
      "id": "72e04bff",
      "metadata": {
        "id": "72e04bff"
      },
      "source": [
        "# reading dataset"
      ]
    },
    {
      "cell_type": "code",
      "execution_count": null,
      "id": "0bd1cdc8",
      "metadata": {
        "id": "0bd1cdc8",
        "outputId": "ac332851-be25-4a03-b5e6-e3c5dd894a93"
      },
      "outputs": [
        {
          "data": {
            "text/plain": [
              "(395, 30)"
            ]
          },
          "execution_count": 2,
          "metadata": {},
          "output_type": "execute_result"
        }
      ],
      "source": [
        "df=pd.read_csv(\"E:student-mat-pass-or-fail.csv\")\n",
        "df.shape"
      ]
    },
    {
      "cell_type": "code",
      "execution_count": null,
      "id": "7ac7a7b1",
      "metadata": {
        "id": "7ac7a7b1",
        "outputId": "3ae9f6cc-2e29-435c-c98e-03a8c8a18a23"
      },
      "outputs": [
        {
          "data": {
            "text/html": [
              "<div>\n",
              "<style scoped>\n",
              "    .dataframe tbody tr th:only-of-type {\n",
              "        vertical-align: middle;\n",
              "    }\n",
              "\n",
              "    .dataframe tbody tr th {\n",
              "        vertical-align: top;\n",
              "    }\n",
              "\n",
              "    .dataframe thead th {\n",
              "        text-align: right;\n",
              "    }\n",
              "</style>\n",
              "<table border=\"1\" class=\"dataframe\">\n",
              "  <thead>\n",
              "    <tr style=\"text-align: right;\">\n",
              "      <th></th>\n",
              "      <th>school</th>\n",
              "      <th>sex</th>\n",
              "      <th>age</th>\n",
              "      <th>address</th>\n",
              "      <th>famsize</th>\n",
              "      <th>Pstatus</th>\n",
              "      <th>Medu</th>\n",
              "      <th>Fedu</th>\n",
              "      <th>traveltime</th>\n",
              "      <th>studytime</th>\n",
              "      <th>...</th>\n",
              "      <th>freetime</th>\n",
              "      <th>goout</th>\n",
              "      <th>Dalc</th>\n",
              "      <th>Walc</th>\n",
              "      <th>health</th>\n",
              "      <th>absences</th>\n",
              "      <th>G1</th>\n",
              "      <th>G2</th>\n",
              "      <th>G3</th>\n",
              "      <th>pass</th>\n",
              "    </tr>\n",
              "  </thead>\n",
              "  <tbody>\n",
              "    <tr>\n",
              "      <th>0</th>\n",
              "      <td>1</td>\n",
              "      <td>1</td>\n",
              "      <td>18</td>\n",
              "      <td>1</td>\n",
              "      <td>0</td>\n",
              "      <td>0</td>\n",
              "      <td>4</td>\n",
              "      <td>4</td>\n",
              "      <td>2</td>\n",
              "      <td>2</td>\n",
              "      <td>...</td>\n",
              "      <td>3</td>\n",
              "      <td>4</td>\n",
              "      <td>1</td>\n",
              "      <td>1</td>\n",
              "      <td>3</td>\n",
              "      <td>6</td>\n",
              "      <td>5</td>\n",
              "      <td>6</td>\n",
              "      <td>6</td>\n",
              "      <td>0</td>\n",
              "    </tr>\n",
              "    <tr>\n",
              "      <th>1</th>\n",
              "      <td>1</td>\n",
              "      <td>1</td>\n",
              "      <td>17</td>\n",
              "      <td>1</td>\n",
              "      <td>0</td>\n",
              "      <td>1</td>\n",
              "      <td>1</td>\n",
              "      <td>1</td>\n",
              "      <td>1</td>\n",
              "      <td>2</td>\n",
              "      <td>...</td>\n",
              "      <td>3</td>\n",
              "      <td>3</td>\n",
              "      <td>1</td>\n",
              "      <td>1</td>\n",
              "      <td>3</td>\n",
              "      <td>4</td>\n",
              "      <td>5</td>\n",
              "      <td>5</td>\n",
              "      <td>6</td>\n",
              "      <td>0</td>\n",
              "    </tr>\n",
              "    <tr>\n",
              "      <th>2</th>\n",
              "      <td>1</td>\n",
              "      <td>1</td>\n",
              "      <td>15</td>\n",
              "      <td>1</td>\n",
              "      <td>1</td>\n",
              "      <td>1</td>\n",
              "      <td>1</td>\n",
              "      <td>1</td>\n",
              "      <td>1</td>\n",
              "      <td>2</td>\n",
              "      <td>...</td>\n",
              "      <td>3</td>\n",
              "      <td>2</td>\n",
              "      <td>2</td>\n",
              "      <td>3</td>\n",
              "      <td>3</td>\n",
              "      <td>10</td>\n",
              "      <td>7</td>\n",
              "      <td>8</td>\n",
              "      <td>10</td>\n",
              "      <td>1</td>\n",
              "    </tr>\n",
              "    <tr>\n",
              "      <th>3</th>\n",
              "      <td>1</td>\n",
              "      <td>1</td>\n",
              "      <td>15</td>\n",
              "      <td>1</td>\n",
              "      <td>0</td>\n",
              "      <td>1</td>\n",
              "      <td>4</td>\n",
              "      <td>2</td>\n",
              "      <td>1</td>\n",
              "      <td>3</td>\n",
              "      <td>...</td>\n",
              "      <td>2</td>\n",
              "      <td>2</td>\n",
              "      <td>1</td>\n",
              "      <td>1</td>\n",
              "      <td>5</td>\n",
              "      <td>2</td>\n",
              "      <td>15</td>\n",
              "      <td>14</td>\n",
              "      <td>15</td>\n",
              "      <td>1</td>\n",
              "    </tr>\n",
              "    <tr>\n",
              "      <th>4</th>\n",
              "      <td>1</td>\n",
              "      <td>1</td>\n",
              "      <td>16</td>\n",
              "      <td>1</td>\n",
              "      <td>0</td>\n",
              "      <td>1</td>\n",
              "      <td>3</td>\n",
              "      <td>3</td>\n",
              "      <td>1</td>\n",
              "      <td>2</td>\n",
              "      <td>...</td>\n",
              "      <td>3</td>\n",
              "      <td>2</td>\n",
              "      <td>1</td>\n",
              "      <td>2</td>\n",
              "      <td>5</td>\n",
              "      <td>4</td>\n",
              "      <td>6</td>\n",
              "      <td>10</td>\n",
              "      <td>10</td>\n",
              "      <td>1</td>\n",
              "    </tr>\n",
              "  </tbody>\n",
              "</table>\n",
              "<p>5 rows × 30 columns</p>\n",
              "</div>"
            ],
            "text/plain": [
              "   school  sex  age  address  famsize  Pstatus  Medu  Fedu  traveltime  \\\n",
              "0       1    1   18        1        0        0     4     4           2   \n",
              "1       1    1   17        1        0        1     1     1           1   \n",
              "2       1    1   15        1        1        1     1     1           1   \n",
              "3       1    1   15        1        0        1     4     2           1   \n",
              "4       1    1   16        1        0        1     3     3           1   \n",
              "\n",
              "   studytime  ...  freetime  goout  Dalc  Walc  health  absences  G1  G2  G3  \\\n",
              "0          2  ...         3      4     1     1       3         6   5   6   6   \n",
              "1          2  ...         3      3     1     1       3         4   5   5   6   \n",
              "2          2  ...         3      2     2     3       3        10   7   8  10   \n",
              "3          3  ...         2      2     1     1       5         2  15  14  15   \n",
              "4          2  ...         3      2     1     2       5         4   6  10  10   \n",
              "\n",
              "   pass  \n",
              "0     0  \n",
              "1     0  \n",
              "2     1  \n",
              "3     1  \n",
              "4     1  \n",
              "\n",
              "[5 rows x 30 columns]"
            ]
          },
          "execution_count": 3,
          "metadata": {},
          "output_type": "execute_result"
        }
      ],
      "source": [
        "df.head(5)"
      ]
    },
    {
      "cell_type": "code",
      "execution_count": null,
      "id": "20be18b8",
      "metadata": {
        "id": "20be18b8",
        "outputId": "86dd693c-158d-4c1e-9203-1f1ad0053ad9"
      },
      "outputs": [
        {
          "data": {
            "text/html": [
              "<div>\n",
              "<style scoped>\n",
              "    .dataframe tbody tr th:only-of-type {\n",
              "        vertical-align: middle;\n",
              "    }\n",
              "\n",
              "    .dataframe tbody tr th {\n",
              "        vertical-align: top;\n",
              "    }\n",
              "\n",
              "    .dataframe thead th {\n",
              "        text-align: right;\n",
              "    }\n",
              "</style>\n",
              "<table border=\"1\" class=\"dataframe\">\n",
              "  <thead>\n",
              "    <tr style=\"text-align: right;\">\n",
              "      <th></th>\n",
              "      <th>school</th>\n",
              "      <th>sex</th>\n",
              "      <th>age</th>\n",
              "      <th>address</th>\n",
              "      <th>famsize</th>\n",
              "      <th>Pstatus</th>\n",
              "      <th>Medu</th>\n",
              "      <th>Fedu</th>\n",
              "      <th>traveltime</th>\n",
              "      <th>studytime</th>\n",
              "      <th>...</th>\n",
              "      <th>freetime</th>\n",
              "      <th>goout</th>\n",
              "      <th>Dalc</th>\n",
              "      <th>Walc</th>\n",
              "      <th>health</th>\n",
              "      <th>absences</th>\n",
              "      <th>G1</th>\n",
              "      <th>G2</th>\n",
              "      <th>G3</th>\n",
              "      <th>pass</th>\n",
              "    </tr>\n",
              "  </thead>\n",
              "  <tbody>\n",
              "    <tr>\n",
              "      <th>count</th>\n",
              "      <td>395.000000</td>\n",
              "      <td>395.000000</td>\n",
              "      <td>395.000000</td>\n",
              "      <td>395.000000</td>\n",
              "      <td>395.000000</td>\n",
              "      <td>395.000000</td>\n",
              "      <td>395.000000</td>\n",
              "      <td>395.000000</td>\n",
              "      <td>395.000000</td>\n",
              "      <td>395.000000</td>\n",
              "      <td>...</td>\n",
              "      <td>395.000000</td>\n",
              "      <td>395.000000</td>\n",
              "      <td>395.000000</td>\n",
              "      <td>395.000000</td>\n",
              "      <td>395.000000</td>\n",
              "      <td>395.000000</td>\n",
              "      <td>395.000000</td>\n",
              "      <td>395.000000</td>\n",
              "      <td>395.000000</td>\n",
              "      <td>395.000000</td>\n",
              "    </tr>\n",
              "    <tr>\n",
              "      <th>mean</th>\n",
              "      <td>0.883544</td>\n",
              "      <td>0.526582</td>\n",
              "      <td>16.696203</td>\n",
              "      <td>0.777215</td>\n",
              "      <td>0.288608</td>\n",
              "      <td>0.896203</td>\n",
              "      <td>2.749367</td>\n",
              "      <td>2.521519</td>\n",
              "      <td>1.448101</td>\n",
              "      <td>2.035443</td>\n",
              "      <td>...</td>\n",
              "      <td>3.235443</td>\n",
              "      <td>3.108861</td>\n",
              "      <td>1.481013</td>\n",
              "      <td>2.291139</td>\n",
              "      <td>3.554430</td>\n",
              "      <td>5.708861</td>\n",
              "      <td>10.908861</td>\n",
              "      <td>10.713924</td>\n",
              "      <td>10.415190</td>\n",
              "      <td>0.670886</td>\n",
              "    </tr>\n",
              "    <tr>\n",
              "      <th>std</th>\n",
              "      <td>0.321177</td>\n",
              "      <td>0.499926</td>\n",
              "      <td>1.276043</td>\n",
              "      <td>0.416643</td>\n",
              "      <td>0.453690</td>\n",
              "      <td>0.305384</td>\n",
              "      <td>1.094735</td>\n",
              "      <td>1.088201</td>\n",
              "      <td>0.697505</td>\n",
              "      <td>0.839240</td>\n",
              "      <td>...</td>\n",
              "      <td>0.998862</td>\n",
              "      <td>1.113278</td>\n",
              "      <td>0.890741</td>\n",
              "      <td>1.287897</td>\n",
              "      <td>1.390303</td>\n",
              "      <td>8.003096</td>\n",
              "      <td>3.319195</td>\n",
              "      <td>3.761505</td>\n",
              "      <td>4.581443</td>\n",
              "      <td>0.470487</td>\n",
              "    </tr>\n",
              "    <tr>\n",
              "      <th>min</th>\n",
              "      <td>0.000000</td>\n",
              "      <td>0.000000</td>\n",
              "      <td>15.000000</td>\n",
              "      <td>0.000000</td>\n",
              "      <td>0.000000</td>\n",
              "      <td>0.000000</td>\n",
              "      <td>0.000000</td>\n",
              "      <td>0.000000</td>\n",
              "      <td>1.000000</td>\n",
              "      <td>1.000000</td>\n",
              "      <td>...</td>\n",
              "      <td>1.000000</td>\n",
              "      <td>1.000000</td>\n",
              "      <td>1.000000</td>\n",
              "      <td>1.000000</td>\n",
              "      <td>1.000000</td>\n",
              "      <td>0.000000</td>\n",
              "      <td>3.000000</td>\n",
              "      <td>0.000000</td>\n",
              "      <td>0.000000</td>\n",
              "      <td>0.000000</td>\n",
              "    </tr>\n",
              "    <tr>\n",
              "      <th>25%</th>\n",
              "      <td>1.000000</td>\n",
              "      <td>0.000000</td>\n",
              "      <td>16.000000</td>\n",
              "      <td>1.000000</td>\n",
              "      <td>0.000000</td>\n",
              "      <td>1.000000</td>\n",
              "      <td>2.000000</td>\n",
              "      <td>2.000000</td>\n",
              "      <td>1.000000</td>\n",
              "      <td>1.000000</td>\n",
              "      <td>...</td>\n",
              "      <td>3.000000</td>\n",
              "      <td>2.000000</td>\n",
              "      <td>1.000000</td>\n",
              "      <td>1.000000</td>\n",
              "      <td>3.000000</td>\n",
              "      <td>0.000000</td>\n",
              "      <td>8.000000</td>\n",
              "      <td>9.000000</td>\n",
              "      <td>8.000000</td>\n",
              "      <td>0.000000</td>\n",
              "    </tr>\n",
              "    <tr>\n",
              "      <th>50%</th>\n",
              "      <td>1.000000</td>\n",
              "      <td>1.000000</td>\n",
              "      <td>17.000000</td>\n",
              "      <td>1.000000</td>\n",
              "      <td>0.000000</td>\n",
              "      <td>1.000000</td>\n",
              "      <td>3.000000</td>\n",
              "      <td>2.000000</td>\n",
              "      <td>1.000000</td>\n",
              "      <td>2.000000</td>\n",
              "      <td>...</td>\n",
              "      <td>3.000000</td>\n",
              "      <td>3.000000</td>\n",
              "      <td>1.000000</td>\n",
              "      <td>2.000000</td>\n",
              "      <td>4.000000</td>\n",
              "      <td>4.000000</td>\n",
              "      <td>11.000000</td>\n",
              "      <td>11.000000</td>\n",
              "      <td>11.000000</td>\n",
              "      <td>1.000000</td>\n",
              "    </tr>\n",
              "    <tr>\n",
              "      <th>75%</th>\n",
              "      <td>1.000000</td>\n",
              "      <td>1.000000</td>\n",
              "      <td>18.000000</td>\n",
              "      <td>1.000000</td>\n",
              "      <td>1.000000</td>\n",
              "      <td>1.000000</td>\n",
              "      <td>4.000000</td>\n",
              "      <td>3.000000</td>\n",
              "      <td>2.000000</td>\n",
              "      <td>2.000000</td>\n",
              "      <td>...</td>\n",
              "      <td>4.000000</td>\n",
              "      <td>4.000000</td>\n",
              "      <td>2.000000</td>\n",
              "      <td>3.000000</td>\n",
              "      <td>5.000000</td>\n",
              "      <td>8.000000</td>\n",
              "      <td>13.000000</td>\n",
              "      <td>13.000000</td>\n",
              "      <td>14.000000</td>\n",
              "      <td>1.000000</td>\n",
              "    </tr>\n",
              "    <tr>\n",
              "      <th>max</th>\n",
              "      <td>1.000000</td>\n",
              "      <td>1.000000</td>\n",
              "      <td>22.000000</td>\n",
              "      <td>1.000000</td>\n",
              "      <td>1.000000</td>\n",
              "      <td>1.000000</td>\n",
              "      <td>4.000000</td>\n",
              "      <td>4.000000</td>\n",
              "      <td>4.000000</td>\n",
              "      <td>4.000000</td>\n",
              "      <td>...</td>\n",
              "      <td>5.000000</td>\n",
              "      <td>5.000000</td>\n",
              "      <td>5.000000</td>\n",
              "      <td>5.000000</td>\n",
              "      <td>5.000000</td>\n",
              "      <td>75.000000</td>\n",
              "      <td>19.000000</td>\n",
              "      <td>19.000000</td>\n",
              "      <td>20.000000</td>\n",
              "      <td>1.000000</td>\n",
              "    </tr>\n",
              "  </tbody>\n",
              "</table>\n",
              "<p>8 rows × 30 columns</p>\n",
              "</div>"
            ],
            "text/plain": [
              "           school         sex         age     address     famsize     Pstatus  \\\n",
              "count  395.000000  395.000000  395.000000  395.000000  395.000000  395.000000   \n",
              "mean     0.883544    0.526582   16.696203    0.777215    0.288608    0.896203   \n",
              "std      0.321177    0.499926    1.276043    0.416643    0.453690    0.305384   \n",
              "min      0.000000    0.000000   15.000000    0.000000    0.000000    0.000000   \n",
              "25%      1.000000    0.000000   16.000000    1.000000    0.000000    1.000000   \n",
              "50%      1.000000    1.000000   17.000000    1.000000    0.000000    1.000000   \n",
              "75%      1.000000    1.000000   18.000000    1.000000    1.000000    1.000000   \n",
              "max      1.000000    1.000000   22.000000    1.000000    1.000000    1.000000   \n",
              "\n",
              "             Medu        Fedu  traveltime   studytime  ...    freetime  \\\n",
              "count  395.000000  395.000000  395.000000  395.000000  ...  395.000000   \n",
              "mean     2.749367    2.521519    1.448101    2.035443  ...    3.235443   \n",
              "std      1.094735    1.088201    0.697505    0.839240  ...    0.998862   \n",
              "min      0.000000    0.000000    1.000000    1.000000  ...    1.000000   \n",
              "25%      2.000000    2.000000    1.000000    1.000000  ...    3.000000   \n",
              "50%      3.000000    2.000000    1.000000    2.000000  ...    3.000000   \n",
              "75%      4.000000    3.000000    2.000000    2.000000  ...    4.000000   \n",
              "max      4.000000    4.000000    4.000000    4.000000  ...    5.000000   \n",
              "\n",
              "            goout        Dalc        Walc      health    absences          G1  \\\n",
              "count  395.000000  395.000000  395.000000  395.000000  395.000000  395.000000   \n",
              "mean     3.108861    1.481013    2.291139    3.554430    5.708861   10.908861   \n",
              "std      1.113278    0.890741    1.287897    1.390303    8.003096    3.319195   \n",
              "min      1.000000    1.000000    1.000000    1.000000    0.000000    3.000000   \n",
              "25%      2.000000    1.000000    1.000000    3.000000    0.000000    8.000000   \n",
              "50%      3.000000    1.000000    2.000000    4.000000    4.000000   11.000000   \n",
              "75%      4.000000    2.000000    3.000000    5.000000    8.000000   13.000000   \n",
              "max      5.000000    5.000000    5.000000    5.000000   75.000000   19.000000   \n",
              "\n",
              "               G2          G3        pass  \n",
              "count  395.000000  395.000000  395.000000  \n",
              "mean    10.713924   10.415190    0.670886  \n",
              "std      3.761505    4.581443    0.470487  \n",
              "min      0.000000    0.000000    0.000000  \n",
              "25%      9.000000    8.000000    0.000000  \n",
              "50%     11.000000   11.000000    1.000000  \n",
              "75%     13.000000   14.000000    1.000000  \n",
              "max     19.000000   20.000000    1.000000  \n",
              "\n",
              "[8 rows x 30 columns]"
            ]
          },
          "execution_count": 4,
          "metadata": {},
          "output_type": "execute_result"
        }
      ],
      "source": [
        "df.describe()"
      ]
    },
    {
      "cell_type": "code",
      "execution_count": null,
      "id": "a12e9006",
      "metadata": {
        "id": "a12e9006",
        "outputId": "d5a780db-3501-4532-a332-6444cc3e3c5e"
      },
      "outputs": [
        {
          "data": {
            "text/plain": [
              "school        0\n",
              "sex           0\n",
              "age           0\n",
              "address       0\n",
              "famsize       0\n",
              "Pstatus       0\n",
              "Medu          0\n",
              "Fedu          0\n",
              "traveltime    0\n",
              "studytime     0\n",
              "failures      0\n",
              "schoolsup     0\n",
              "famsup        0\n",
              "paid          0\n",
              "activities    0\n",
              "nursery       0\n",
              "higher        0\n",
              "internet      0\n",
              "romantic      0\n",
              "famrel        0\n",
              "freetime      0\n",
              "goout         0\n",
              "Dalc          0\n",
              "Walc          0\n",
              "health        0\n",
              "absences      0\n",
              "G1            0\n",
              "G2            0\n",
              "G3            0\n",
              "pass          0\n",
              "dtype: int64"
            ]
          },
          "execution_count": 5,
          "metadata": {},
          "output_type": "execute_result"
        }
      ],
      "source": [
        "df.isna().sum()"
      ]
    },
    {
      "cell_type": "markdown",
      "id": "7527a3ef",
      "metadata": {
        "id": "7527a3ef"
      },
      "source": [
        "# Declare feature vector and target variable"
      ]
    },
    {
      "cell_type": "code",
      "execution_count": null,
      "id": "618a7cfe",
      "metadata": {
        "id": "618a7cfe",
        "outputId": "b1196b56-ccab-4690-f92a-ad4da3cbf404"
      },
      "outputs": [
        {
          "data": {
            "text/plain": [
              "0      0\n",
              "1      0\n",
              "2      1\n",
              "3      1\n",
              "4      1\n",
              "      ..\n",
              "390    0\n",
              "391    1\n",
              "392    0\n",
              "393    1\n",
              "394    0\n",
              "Name: pass, Length: 395, dtype: int64"
            ]
          },
          "execution_count": 9,
          "metadata": {},
          "output_type": "execute_result"
        }
      ],
      "source": [
        "X=df.drop(columns=\"pass\")\n",
        "y=df[\"pass\"]\n",
        "y"
      ]
    },
    {
      "cell_type": "markdown",
      "id": "da596efa",
      "metadata": {
        "id": "da596efa"
      },
      "source": [
        "# Splitting Data"
      ]
    },
    {
      "cell_type": "markdown",
      "id": "c9d17a8e",
      "metadata": {
        "id": "c9d17a8e"
      },
      "source": [
        "# Elbow Method to choose the best number of clusters"
      ]
    },
    {
      "cell_type": "code",
      "execution_count": null,
      "id": "1a677259",
      "metadata": {
        "id": "1a677259",
        "outputId": "81f6d78f-5a08-489d-f3b2-50597ef5028c"
      },
      "outputs": [
        {
          "name": "stderr",
          "output_type": "stream",
          "text": [
            "C:\\Users\\smart\\Downloads\\Programs\\lib\\site-packages\\sklearn\\cluster\\_kmeans.py:1036: UserWarning: KMeans is known to have a memory leak on Windows with MKL, when there are less chunks than available threads. You can avoid it by setting the environment variable OMP_NUM_THREADS=2.\n",
            "  warnings.warn(\n"
          ]
        },
        {
          "data": {
            "image/png": "[encoded data removed]",
            "text/plain": [
              "<Figure size 432x288 with 1 Axes>"
            ]
          },
          "metadata": {
            "needs_background": "light"
          },
          "output_type": "display_data"
        }
      ],
      "source": [
        "inertia_values = []\n",
        "for i in range(1, 11):\n",
        "    kmeans = KMeans(n_clusters = i, init = 'k-means++', max_iter = 50, n_init = 10)\n",
        "    kmeans.fit(X)\n",
        "    inertia_values.append(kmeans.inertia_)\n",
        "plt.plot(range(1, 11), inertia_values)\n",
        "plt.title('The Elbow Method')\n",
        "plt.xlabel('Number of clusters')\n",
        "plt.ylabel('inertia_values')\n",
        "plt.show()\n"
      ]
    },
    {
      "cell_type": "markdown",
      "id": "eee5fcee",
      "metadata": {
        "id": "eee5fcee"
      },
      "source": [
        "# K-Means Model"
      ]
    },
    {
      "cell_type": "code",
      "execution_count": null,
      "id": "1f586450",
      "metadata": {
        "id": "1f586450",
        "outputId": "a05fdb75-8249-4145-9ef9-9f14e6f31453"
      },
      "outputs": [
        {
          "name": "stdout",
          "output_type": "stream",
          "text": [
            "Result: 283 out of 395 samples were correctly labeled.\n",
            "Accuracy_score : 71.64556962025317\n"
          ]
        }
      ],
      "source": [
        "kmeans = KMeans(n_clusters=3,random_state=9) #2 9 17\n",
        "\n",
        "kmeans.fit(X)\n",
        "\n",
        "\n",
        "labels = kmeans.labels_\n",
        "\n",
        "# check how many of the samples were correctly labeled\n",
        "\n",
        "correct_labels = sum(y == labels)\n",
        "\n",
        "print(\"Result: %d out of %d samples were correctly labeled.\" % (correct_labels, y.size))\n",
        "\n",
        "\n",
        "KM_accuracy=correct_labels/float(y.size)*100\n",
        "\n",
        "print(\"Accuracy_score :\",KM_accuracy)\n",
        "\n"
      ]
    },
    {
      "cell_type": "markdown",
      "id": "78421d30",
      "metadata": {
        "id": "78421d30"
      },
      "source": [
        "# Calculating Details"
      ]
    },
    {
      "cell_type": "code",
      "execution_count": null,
      "id": "7e929313",
      "metadata": {
        "id": "7e929313",
        "outputId": "14790b12-8d52-48c2-8dab-42fbc326a41b"
      },
      "outputs": [
        {
          "name": "stdout",
          "output_type": "stream",
          "text": [
            "KMeansModel centroids :\n",
            " \n",
            "  [[ 0.86451613  0.6        16.73548387  0.73548387  0.24516129  0.92258065\n",
            "   2.47096774  2.29032258  1.5483871   2.          0.5483871   0.19354839\n",
            "   0.6516129   0.41290323  0.49677419  0.8         0.90967742  0.78709677\n",
            "   0.34193548  4.00645161  3.20645161  3.26451613  1.43870968  2.29677419\n",
            "   3.5483871   3.09677419  8.11612903  7.6         6.66451613]\n",
            " [ 0.87845304  0.44751381 16.46961326  0.79005525  0.30939227  0.88950276\n",
            "   2.93370166  2.70165746  1.38674033  2.15469613  0.07734807  0.0718232\n",
            "   0.56353591  0.50828729  0.5359116   0.78453039  0.98895028  0.84530387\n",
            "   0.27624309  3.94475138  3.26519337  2.91160221  1.43646409  2.13259669\n",
            "   3.5801105   3.33701657 13.50276243 13.64640884 13.79558011]\n",
            " [ 0.94915254  0.57627119 17.28813559  0.84745763  0.33898305  0.84745763\n",
            "   2.91525424  2.57627119  1.37288136  1.76271186  0.55932203  0.13559322\n",
            "   0.66101695  0.42372881  0.45762712  0.81355932  0.93220339  0.91525424\n",
            "   0.49152542  3.77966102  3.22033898  3.30508475  1.72881356  2.76271186\n",
            "   3.49152542 19.84745763 10.28813559  9.89830508  9.89830508]]\n"
          ]
        }
      ],
      "source": [
        "print('KMeansModel centroids :\\n \\n ' ,kmeans.cluster_centers_)"
      ]
    },
    {
      "cell_type": "code",
      "execution_count": null,
      "id": "36152e08",
      "metadata": {
        "id": "36152e08",
        "outputId": "821f06ea-ed85-4e50-cc0f-fa1983f99f2e"
      },
      "outputs": [
        {
          "name": "stdout",
          "output_type": "stream",
          "text": [
            "KMeansModel labels are :\n",
            "  [0 0 0 1 0 1 1 0 1 1 0 1 1 0 1 1 1 0 2 0 1 1 1 1 0 2 1 1 1 2 1 1 1 0 1 0 1\n",
            " 1 1 1 2 1 1 0 2 0 2 1 1 0 1 1 1 0 1 0 1 1 0 1 1 0 0 0 0 1 1 0 0 1 1 0 0 1\n",
            " 2 0 1 1 0 0 1 1 0 1 0 0 0 1 2 2 0 1 0 0 1 0 1 0 1 0 2 1 1 2 1 1 0 1 1 1 1\n",
            " 0 1 1 0 1 1 1 2 1 1 1 1 2 0 1 0 0 0 1 0 0 2 2 0 0 0 0 1 1 0 0 1 1 0 0 0 1\n",
            " 0 0 0 1 0 0 1 0 1 0 1 1 0 0 0 0 0 2 0 1 0 1 0 1 1 0 0 0 1 0 0 0 0 1 1 2 2\n",
            " 2 1 1 0 0 1 0 2 0 1 1 1 0 2 0 1 0 0 2 0 2 0 1 0 0 0 2 1 2 2 1 2 2 0 0 0 0\n",
            " 1 1 1 2 1 1 2 1 2 1 2 1 2 0 1 2 1 0 2 1 0 1 0 1 1 2 0 1 0 0 0 0 1 0 1 2 1\n",
            " 0 2 0 1 0 0 1 0 1 0 0 2 1 1 1 0 1 2 2 2 0 2 2 1 0 0 1 1 1 1 1 1 1 2 1 1 1\n",
            " 0 0 1 1 2 1 1 1 2 1 1 2 1 2 0 2 1 2 2 2 0 0 1 1 2 2 1 1 1 1 1 0 0 1 0 1 0\n",
            " 0 0 2 1 0 1 0 1 0 1 0 0 1 1 0 1 1 0 1 0 0 1 0 1 1 0 1 1 1 1 1 1 0 1 0 0 1\n",
            " 0 1 1 2 1 0 1 0 1 2 1 0 1 0 2 0 0 0 0 0 0 1 0 1 0]\n"
          ]
        }
      ],
      "source": [
        "print('KMeansModel labels are :\\n ' , kmeans.labels_)"
      ]
    },
    {
      "cell_type": "code",
      "execution_count": null,
      "id": "5095bdd2",
      "metadata": {
        "id": "5095bdd2",
        "outputId": "adf2cb42-d952-4ad5-e1a9-f3bcbefe33ae"
      },
      "outputs": [
        {
          "name": "stdout",
          "output_type": "stream",
          "text": [
            "KMeansModel intertia is : 25673.637985917496\n"
          ]
        }
      ],
      "source": [
        "print('KMeansModel intertia is :' , kmeans.inertia_)"
      ]
    },
    {
      "cell_type": "code",
      "execution_count": null,
      "id": "2b0ee1b7",
      "metadata": {
        "id": "2b0ee1b7",
        "outputId": "08713ceb-ca8c-48ff-9daf-bde018905753"
      },
      "outputs": [
        {
          "name": "stdout",
          "output_type": "stream",
          "text": [
            "KMeansModel No. of iteration is :  14\n"
          ]
        }
      ],
      "source": [
        "print('KMeansModel No. of iteration is : ' , kmeans.n_iter_)"
      ]
    },
    {
      "cell_type": "markdown",
      "id": "80a9c7e9",
      "metadata": {
        "id": "80a9c7e9"
      },
      "source": [
        "# C-Means Model "
      ]
    },
    {
      "cell_type": "code",
      "execution_count": null,
      "id": "bfb0bee8",
      "metadata": {
        "id": "bfb0bee8"
      },
      "outputs": [],
      "source": [
        "CM=FCM(n_clusters=2,random_state=19,max_iter=100,m=1.5)\n",
        "CM.fit(X.to_numpy())\n",
        "pred_CM = CM.soft_predict(X.to_numpy()) #soft\n",
        "pred_CM   # Fuzzy values (membership function)\n",
        "\n",
        "\n",
        "\n",
        "\n",
        "\n"
      ]
    },
    {
      "cell_type": "markdown",
      "id": "1d443799",
      "metadata": {
        "id": "1d443799"
      },
      "source": [
        "# applying alpha _cut"
      ]
    },
    {
      "cell_type": "code",
      "execution_count": null,
      "id": "ca90c73e",
      "metadata": {
        "id": "ca90c73e"
      },
      "outputs": [],
      "source": [
        "def alph_cut(alpha,y_fuzzy):\n",
        "  labels=[]\n",
        "  memberships_length=len(y_fuzzy)\n",
        "  for i in range(memberships_length):\n",
        "    if (alpha<=y_fuzzy[i][0]):\n",
        "      labels.append(0)\n",
        "    else:\n",
        "      labels.append(1)\n",
        "  return labels"
      ]
    },
    {
      "cell_type": "markdown",
      "id": "11a57748",
      "metadata": {
        "id": "11a57748"
      },
      "source": [
        "# at alpha_cut = .2"
      ]
    },
    {
      "cell_type": "code",
      "execution_count": null,
      "id": "0aac7275",
      "metadata": {
        "id": "0aac7275",
        "outputId": "c9ecfab6-c873-4859-be72-a0e0be5d5556"
      },
      "outputs": [
        {
          "name": "stdout",
          "output_type": "stream",
          "text": [
            "Result: 280 out of 395 samples were correctly labeled.\n",
            "Accuracy_score : 70.88607594936708\n"
          ]
        }
      ],
      "source": [
        "predictied=alph_cut(.2,pred_CM)\n",
        "\n",
        "correct_labels = sum(y == predictied)\n",
        "\n",
        "print(\"Result: %d out of %d samples were correctly labeled.\" % (correct_labels, y.size))\n",
        "\n",
        "\n",
        "CM_accuracy=correct_labels/float(y.size)*100\n",
        "\n",
        "print(\"Accuracy_score :\",CM_accuracy)\n"
      ]
    },
    {
      "cell_type": "markdown",
      "id": "bff503be",
      "metadata": {
        "id": "bff503be"
      },
      "source": [
        "# at alpha_cut = .3"
      ]
    },
    {
      "cell_type": "code",
      "execution_count": null,
      "id": "7ca4d8d2",
      "metadata": {
        "id": "7ca4d8d2",
        "outputId": "a98dc7cc-3a52-4cd2-9c1a-aa427197a2c5"
      },
      "outputs": [
        {
          "name": "stdout",
          "output_type": "stream",
          "text": [
            "Result: 302 out of 395 samples were correctly labeled.\n",
            "Accuracy_score : 76.45569620253164\n"
          ]
        }
      ],
      "source": [
        "predictied=alph_cut(.3,pred_CM)\n",
        "\n",
        "correct_labels = sum(y == predictied)\n",
        "\n",
        "print(\"Result: %d out of %d samples were correctly labeled.\" % (correct_labels, y.size))\n",
        "\n",
        "\n",
        "CM_accuracy=correct_labels/float(y.size)*100\n",
        "\n",
        "print(\"Accuracy_score :\",CM_accuracy)"
      ]
    },
    {
      "cell_type": "markdown",
      "id": "f1a64245",
      "metadata": {
        "id": "f1a64245"
      },
      "source": [
        "# at alpha_cut = .4"
      ]
    },
    {
      "cell_type": "code",
      "execution_count": null,
      "id": "6c6b2c11",
      "metadata": {
        "id": "6c6b2c11",
        "outputId": "1e56f6d3-6e10-43cc-d03e-aeb5e94e8d7d"
      },
      "outputs": [
        {
          "name": "stdout",
          "output_type": "stream",
          "text": [
            "Result: 315 out of 395 samples were correctly labeled.\n",
            "Accuracy_score : 79.74683544303798\n"
          ]
        }
      ],
      "source": [
        "predictied=alph_cut(.4,pred_CM)\n",
        "\n",
        "correct_labels = sum(y == predictied)\n",
        "\n",
        "print(\"Result: %d out of %d samples were correctly labeled.\" % (correct_labels, y.size))\n",
        "\n",
        "\n",
        "CM_accuracy=correct_labels/float(y.size)*100\n",
        "\n",
        "print(\"Accuracy_score :\",CM_accuracy)"
      ]
    },
    {
      "cell_type": "markdown",
      "id": "edfcfb52",
      "metadata": {
        "id": "edfcfb52"
      },
      "source": [
        "# at alpha_cut = .5"
      ]
    },
    {
      "cell_type": "code",
      "execution_count": null,
      "id": "ce1b6d52",
      "metadata": {
        "id": "ce1b6d52",
        "outputId": "ced0c7c8-683d-47b7-9824-66689c23121c"
      },
      "outputs": [
        {
          "name": "stdout",
          "output_type": "stream",
          "text": [
            "Result: 335 out of 395 samples were correctly labeled.\n",
            "Accuracy_score : 84.81012658227847\n"
          ]
        }
      ],
      "source": [
        "predictied=alph_cut(.5,pred_CM)\n",
        "\n",
        "correct_labels = sum(y == predictied)\n",
        "\n",
        "print(\"Result: %d out of %d samples were correctly labeled.\" % (correct_labels, y.size))\n",
        "\n",
        "\n",
        "CM_accuracy=correct_labels/float(y.size)*100\n",
        "\n",
        "print(\"Accuracy_score :\",CM_accuracy)"
      ]
    },
    {
      "cell_type": "markdown",
      "id": "af8f532f",
      "metadata": {
        "id": "af8f532f"
      },
      "source": [
        "# at alpha_cut = .7"
      ]
    },
    {
      "cell_type": "code",
      "execution_count": null,
      "id": "b274679c",
      "metadata": {
        "id": "b274679c",
        "outputId": "4e1e1cdd-a3c4-4d5b-d0a2-26adea0c19e5"
      },
      "outputs": [
        {
          "name": "stdout",
          "output_type": "stream",
          "text": [
            "Result: 357 out of 395 samples were correctly labeled.\n",
            "Accuracy_score : 90.37974683544304\n"
          ]
        }
      ],
      "source": [
        "predictied=alph_cut(.7,pred_CM)\n",
        "\n",
        "correct_labels = sum(y == predictied)\n",
        "\n",
        "print(\"Result: %d out of %d samples were correctly labeled.\" % (correct_labels, y.size))\n",
        "\n",
        "\n",
        "CM_accuracy=correct_labels/float(y.size)*100\n",
        "\n",
        "print(\"Accuracy_score :\",CM_accuracy)"
      ]
    },
    {
      "cell_type": "markdown",
      "id": "26274246",
      "metadata": {
        "id": "26274246"
      },
      "source": [
        "# Conclusion"
      ]
    },
    {
      "cell_type": "code",
      "execution_count": null,
      "id": "5b00d82c",
      "metadata": {
        "id": "5b00d82c",
        "outputId": "92d1abfd-a5b6-4fb5-d1db-d0680fb7e692"
      },
      "outputs": [
        {
          "data": {
            "text/html": [
              "<div>\n",
              "<style scoped>\n",
              "    .dataframe tbody tr th:only-of-type {\n",
              "        vertical-align: middle;\n",
              "    }\n",
              "\n",
              "    .dataframe tbody tr th {\n",
              "        vertical-align: top;\n",
              "    }\n",
              "\n",
              "    .dataframe thead th {\n",
              "        text-align: right;\n",
              "    }\n",
              "</style>\n",
              "<table border=\"1\" class=\"dataframe\">\n",
              "  <thead>\n",
              "    <tr style=\"text-align: right;\">\n",
              "      <th></th>\n",
              "      <th>Accuracy_score</th>\n",
              "    </tr>\n",
              "  </thead>\n",
              "  <tbody>\n",
              "    <tr>\n",
              "      <th>Fuzzy C-Means</th>\n",
              "      <td>90.379747</td>\n",
              "    </tr>\n",
              "    <tr>\n",
              "      <th>K-Means</th>\n",
              "      <td>71.645570</td>\n",
              "    </tr>\n",
              "  </tbody>\n",
              "</table>\n",
              "</div>"
            ],
            "text/plain": [
              "               Accuracy_score\n",
              "Fuzzy C-Means       90.379747\n",
              "K-Means             71.645570"
            ]
          },
          "execution_count": 52,
          "metadata": {},
          "output_type": "execute_result"
        }
      ],
      "source": [
        "Models=[\"Fuzzy C-Means\",\"K-Means\"]\n",
        "model_data = [CM_accuracy  , KM_accuracy ]\n",
        "cols = [\"Accuracy_score\"]\n",
        "compare=pd.DataFrame(data=model_data , index= Models , columns= cols)\n",
        "compare.sort_values(ascending= False , by = ['Accuracy_score'])"
      ]
    },
    {
      "cell_type": "code",
      "execution_count": null,
      "id": "d9918fdd",
      "metadata": {
        "id": "d9918fdd"
      },
      "outputs": [],
      "source": []
    }
  ],
  "metadata": {
    "kernelspec": {
      "display_name": "Python 3 (ipykernel)",
      "language": "python",
      "name": "python3"
    },
    "language_info": {
      "codemirror_mode": {
        "name": "ipython",
        "version": 3
      },
      "file_extension": ".py",
      "mimetype": "text/x-python",
      "name": "python",
      "nbconvert_exporter": "python",
      "pygments_lexer": "ipython3",
      "version": "3.9.12"
    },
    "colab": {
      "provenance": []
    }
  },
  "nbformat": 4,
  "nbformat_minor": 5
}